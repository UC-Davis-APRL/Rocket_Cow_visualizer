{
 "cells": [
  {
   "cell_type": "code",
   "execution_count": null,
   "metadata": {},
   "outputs": [],
   "source": [
    "# inputs: OF, Pressure, Fuel, Oxidizer, (Thrust or massflow), exit pressure\n",
    "# nozzle geometry: L*, chamber diameter, converging angle, diverging angle, nozzle type, \n"
   ]
  }
 ],
 "metadata": {
  "language_info": {
   "name": "python"
  },
  "orig_nbformat": 4
 },
 "nbformat": 4,
 "nbformat_minor": 2
}
