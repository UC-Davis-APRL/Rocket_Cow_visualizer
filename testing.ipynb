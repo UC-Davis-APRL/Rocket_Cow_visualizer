{
 "cells": [
  {
   "cell_type": "code",
   "execution_count": 1,
   "metadata": {},
   "outputs": [],
   "source": [
    "import pypropep as ppp\n",
    "import streamlit as st\n",
    "import pandas as pd\n",
    "import numpy as np\n",
    "# import scipy as sp \n",
    "# import skimpy\n",
    "import seaborn as sns\n",
    "import plotly.express as px\n",
    "import plotly.graph_objects as go\n",
    "import matplotlib.pyplot as plt\n",
    "from scipy import constants"
   ]
  },
  {
   "cell_type": "code",
   "execution_count": 2,
   "metadata": {},
   "outputs": [
    {
     "name": "stdout",
     "output_type": "stream",
     "text": [
      "Loaded 1921 thermo species\n",
      "Loaded 1031 propellants\n"
     ]
    }
   ],
   "source": [
    "ppp.init()"
   ]
  },
  {
   "cell_type": "code",
   "execution_count": 3,
   "metadata": {},
   "outputs": [
    {
     "name": "stdout",
     "output_type": "stream",
     "text": [
      "Status:\n",
      "\tEquillibrium Computed: False\n",
      "\tProperties Computed: False\n",
      "\tPerformance Computed: False\n",
      "Composition:\n",
      "\tRP-1 (RPL) - 0.001 mol\n",
      "\tOXYGEN (LIQUID) - 0.069 mol\n",
      "======= Chamber =======: \n",
      "\tPressure: 27.000 atm \n",
      "\tTemperature: 3434.3 K \n",
      "\tEnthalpy: -751.531 kJ/kg \n",
      "\tInt. Energy: -2071.642 kJ/kg \n",
      "\tGibbs Free Energy: -42064.920 kJ/kg \n",
      "\tEntropy: 12.030 kJ/kg-K \n",
      "\tMolar Mass: 21.631 g/mol \n",
      "\tdV_P: -1.025\n",
      "\tdV_T: 1.459\n",
      "\tCp: 5.330 kJ/kg-K\n",
      "\tCv: 4.531 kJ/kg-K\n",
      "\tgamma: 1.147\n",
      "\tSound Speed: 1230.5 m/s\n",
      "\t\n",
      "\tAe/At: 0.00000\n",
      "\tA/dotm: 0.00000 m/s/atm\n",
      "\tC*: 0.00000 m/s\n",
      "\tCf: 0.00000\n",
      "\tIvac (m/s): 0.00000\n",
      "\tIsp (m/s): 0.00000\n",
      "\tIsp/g (s): 0.00000\n",
      "\n",
      "======= Throat =======: \n",
      "\tPressure: 15.516 atm \n",
      "\tTemperature: 3237.0 K \n",
      "\tEnthalpy: -1457.447 kJ/kg \n",
      "\tInt. Energy: -2686.863 kJ/kg \n",
      "\tGibbs Free Energy: -40396.894 kJ/kg \n",
      "\tEntropy: 12.030 kJ/kg-K \n",
      "\tMolar Mass: 21.892 g/mol \n",
      "\tdV_P: -1.019\n",
      "\tdV_T: 1.360\n",
      "\tCp: 4.747 kJ/kg-K\n",
      "\tCv: 4.057 kJ/kg-K\n",
      "\tgamma: 1.148\n",
      "\tSound Speed: 1188.2 m/s\n",
      "\t\n",
      "\tAe/At: 1.00000\n",
      "\tA/dotm: 66.68517 m/s/atm\n",
      "\tC*: 1800.49970 m/s\n",
      "\tCf: 0.65993\n",
      "\tIvac (m/s): 2222.88915\n",
      "\tIsp (m/s): 1188.20695\n",
      "\tIsp/g (s): 121.16339\n",
      "\n",
      "======= Exit =======: \n",
      "\tPressure: 1.000 atm \n",
      "\tTemperature: 2241.0 K \n",
      "\tEnthalpy: -4263.232 kJ/kg \n",
      "\tInt. Energy: -5087.578 kJ/kg \n",
      "\tGibbs Free Energy: -31220.957 kJ/kg \n",
      "\tEntropy: 12.030 kJ/kg-K \n",
      "\tMolar Mass: 22.603 g/mol \n",
      "\tdV_P: -1.001\n",
      "\tdV_T: 1.024\n",
      "\tCp: 2.265 kJ/kg-K\n",
      "\tCv: 1.880 kJ/kg-K\n",
      "\tgamma: 1.204\n",
      "\tSound Speed: 996.2 m/s\n",
      "\t\n",
      "\tAe/At: 4.81603\n",
      "\tA/dotm: 311.05379 m/s/atm\n",
      "\tC*: 1800.49970 m/s\n",
      "\tCf: 1.47191\n",
      "\tIvac (m/s): 2961.22431\n",
      "\tIsp (m/s): 2650.17053\n",
      "\tIsp/g (s): 270.24219\n",
      "\n",
      "\n"
     ]
    }
   ],
   "source": [
    "performance = ppp.ShiftingPerformance()\n",
    "\n",
    "ox = ppp.PROPELLANTS['OXYGEN (LIQUID)']\n",
    "fuel = ppp.PROPELLANTS['RP-1 (RPL)']\n",
    "OF = 2.2\n",
    "performance.add_propellants_by_mass([(fuel, 1.0), (ox, OF)])\n",
    "performance.set_state(P=27., Pe=1)\n",
    "print(performance)    \n",
    "# ox.mw\n",
    "# 1/fuel.mw\n",
    "# 2.2/ox.mw\n",
    "# print(fuel['name'], fuel.formula())\n",
    "# performance.properties_computed\n",
    "# performance._equil_structs[2]\n",
    "# performance._equil_objs[0].properties.density"
   ]
  },
  {
   "cell_type": "code",
   "execution_count": 4,
   "metadata": {},
   "outputs": [],
   "source": [
    "def pypropep_to_dataframe(p, ox, fuel):\n",
    "\n",
    "    Parameters = ['of (wt ratio)', 'p (psi)', 't (K)', 'rho (kg/m^3)', 'v (m/s)', 'Isp (s)', 'Ivac (m/s)', 'c* (m/s)', 'cf', 'sound (m/s)', 'A/At', 'cp (kJ/kg-K)', 'cv (kJ/kg-K)', 'gamma', 'mol mass (g/mol)', \n",
    "              'h (kJ/kg)', 'u (kJ/kg)', 'g (kJ/kg)', 's (kJ/kg-K)', 'dV_P', 'dV_T', 'composition']\n",
    "    positions = ['chamber', 'throat', 'exit']\n",
    "\n",
    "    df = pd.DataFrame(columns=Parameters, index=positions, dtype=float)\n",
    "\n",
    "    df.attrs = {'ox' : [ox.formula(), ox['name'], ox['id']], \n",
    "                'fuel' : [fuel.formula(), fuel['name'], fuel['id']]}\n",
    "\n",
    "    for i, c in enumerate(positions):\n",
    "        composition = p.composition[c][0:8]\n",
    "        if(bool(p.composition_condensed[c])):\n",
    "            composition.append(p.composition_condensed[c])\n",
    "\n",
    "        df.loc[c, 'of (wt ratio)']      = p._equil_structs[0].propellant.coef[1] * ox.mw\n",
    "        df.loc[c, 'p (psi)']            = p._equil_objs[i].properties.P\n",
    "        df.loc[c, 't (K)']              = p._equil_objs[i].properties.T\n",
    "        df.loc[c, 'rho (kg/m^3)']       = (p._equil_objs[i].properties.P * 101325 * p._equil_objs[i].properties.M / 1000) / (p._equil_objs[i].properties.T * 8.314 ) # rho (kg/m^3) = (P (atm) * 101325 (Pa) / 1 (atm) * M (g/mol) * 1 kg/1000 g)/( T (K) * R (m^3-Pa/mol-k))\n",
    "        df.loc[c, 'v (m/s)']            = p._equil_structs[i].performance.Isp\n",
    "        df.loc[c, 'Isp (s)']            = p._equil_structs[i].performance.Isp/constants.g\n",
    "        df.loc[c, 'Ivac (m/s)']         = p._equil_structs[i].performance.Ivac\n",
    "        df.loc[c, 'c* (m/s)']           = p._equil_structs[i].performance.cstar\n",
    "        df.loc[c, 'cf']                 = p._equil_structs[i].performance.cf\n",
    "        df.loc[c, 'sound (m/s)']        = p._equil_structs[i].performance.ae_at\n",
    "        df.loc[c, 'A/At']               = p._equil_objs[i].properties.Vson\n",
    "        df.loc[c, 'cp (kJ/kg-K)']       = p._equil_objs[i].properties.Cp\n",
    "        df.loc[c, 'cv (kJ/kg-K)']       = p._equil_objs[i].properties.Cv\n",
    "        df.loc[c, 'gamma']              = p._equil_objs[i].properties.Isex\n",
    "        df.loc[c, 'mol mass (g/mol)']   = p._equil_objs[i].properties.M\n",
    "        df.loc[c, 'h (kJ/kg)']          = p._equil_objs[i].properties.H\n",
    "        df.loc[c, 'u (kJ/kg)']          = p._equil_objs[i].properties.U\n",
    "        df.loc[c, 'g (kJ/kg)']          = p._equil_objs[i].properties.G\n",
    "        df.loc[c, 's (kJ/kg-K)']        = p._equil_objs[i].properties.S\n",
    "        df.loc[c, 'dV_P']               = p._equil_objs[i].properties.dV_P\n",
    "        df.loc[c, 'dV_T']               = p._equil_objs[i].properties.dV_T\n",
    "        # df.at[c, 'composition']       = [composition]\n",
    "\n",
    "    return df"
   ]
  },
  {
   "cell_type": "code",
   "execution_count": 5,
   "metadata": {},
   "outputs": [
    {
     "name": "stdout",
     "output_type": "stream",
     "text": [
      "1397.6182999999999\n",
      "31.9988\n"
     ]
    }
   ],
   "source": [
    "performance = ppp.FrozenPerformance()\n",
    "\n",
    "ox = ppp.PROPELLANTS['OXYGEN (LIQUID)']\n",
    "fuel = ppp.PROPELLANTS['RP-1 (RPL)']\n",
    "OF_list = list(np.arange(1, 4, 0.2))\n",
    "OF = 2.2\n",
    "\n",
    "performance.add_propellants_by_mass([(fuel, 1.0), (ox, OF)])\n",
    "performance.set_state(P=27., Pe=1)\n",
    "# performance.  ([(fuel, 1.0), (ox, 2.3)])\n",
    "\n",
    "print(fuel.mw)\n",
    "print(ox.mw)\n"
   ]
  },
  {
   "cell_type": "code",
   "execution_count": 6,
   "metadata": {},
   "outputs": [],
   "source": [
    "# DEFINE \n",
    "def ranged_sim(ox, fuel, of_arr, p_arr , p_e = 1, assumption = 'SHIFTING'):\n",
    "\n",
    "    # iterates through OF ratios and pressures. \n",
    "    df_list = [] \n",
    "    o = ppp.PROPELLANTS[ox]\n",
    "    f = ppp.PROPELLANTS[fuel]\n",
    "\n",
    "    if assumption == 'SHIFTING':\n",
    "        for p in p_arr:\n",
    "            for of in of_arr:\n",
    "                # print(p, of)\n",
    "                performance = ppp.ShiftingPerformance()\n",
    "                performance.add_propellants_by_mass([(f, 1.0), (o, of)])\n",
    "                performance.set_state(P=p, Pe=p_e)\n",
    "                df = pypropep_to_dataframe(performance, o, f)\n",
    "                df_list.append(df)\n",
    "        \n",
    "    elif assumption == 'FROZEN':\n",
    "        for p in p_arr:\n",
    "            for of in of_arr:\n",
    "                # # print(p, of)\n",
    "                # print(f)\n",
    "                performance = ppp.FrozenPerformance()\n",
    "                performance.add_propellants_by_mass([(f, 1.0), (o, of)])\n",
    "                performance.set_state(P = p, Pe = p_e)\n",
    "                # print(performance)\n",
    "                df = pypropep_to_dataframe(performance, o, f)\n",
    "                df_list.append(df)    \n",
    "                  \n",
    "    else: \n",
    "        raise Exception('invalid assumption, options are \\'SHIFTING\\' or \\'FROZEN\\'')\n",
    "        \n",
    "    results = pd.concat(df_list, keys = list(range(len(df_list)))) \n",
    "    \n",
    "    # if not a list of dataframes is output\n",
    "    return results\n",
    "            \n"
   ]
  },
  {
   "cell_type": "code",
   "execution_count": 7,
   "metadata": {},
   "outputs": [],
   "source": [
    "def heatmap_data_filter(df, pos, var):\n",
    "    # Parameters = ['of (wt ratio)', 'p (psi)', 't (K)', 'rho (kg/m^3)', 'v (m/s)', 'Isp (s)', 'Ivac (m/s)', 'c* (m/s)', 'cf', 'sound (m/s)', 'A/At', 'cp (kJ/kg-K)', 'cv (kJ/kg-K)', 'gamma', 'mol mass (g/mol)', \n",
    "    #           'h (kJ/kg)', 'u (kJ/kg)', 'g (kJ/kg)', 's (kJ/kg-K)', 'dV_P', 'dV_T', 'composition']\n",
    "    # positions = ['chamber', 'throat', 'exit']\n",
    "    # filtered = df.loc[:, [  'of (wt ratio)','p (psi)', var]]\n",
    "    core = df.loc[pd.IndexSlice[:, 'chamber'], ['of (wt ratio)', 'p (psi)']]\n",
    "    core.index = core.index.droplevel(1)\n",
    "    param = df.loc[pd.IndexSlice[:, pos], var]\n",
    "    param.index = param.index.droplevel(1)\n",
    "    core[var] = param\n",
    "\n",
    "    output = pd.pivot(core, index= 'p (psi)',  columns = 'of (wt ratio)')\n",
    "    output = output.iloc[::-1]\n",
    "    output = output.droplevel(0, 1)\n",
    "    output.index.name = None\n",
    "    output.columns.name = None\n",
    "    output.attrs = core.attrs\n",
    "\n",
    "    return output"
   ]
  },
  {
   "cell_type": "code",
   "execution_count": 8,
   "metadata": {},
   "outputs": [
    {
     "name": "stdout",
     "output_type": "stream",
     "text": [
      "CPU times: total: 31.2 ms\n",
      "Wall time: 33.4 ms\n"
     ]
    },
    {
     "data": {
      "text/html": [
       "<div>\n",
       "<style scoped>\n",
       "    .dataframe tbody tr th:only-of-type {\n",
       "        vertical-align: middle;\n",
       "    }\n",
       "\n",
       "    .dataframe tbody tr th {\n",
       "        vertical-align: top;\n",
       "    }\n",
       "\n",
       "    .dataframe thead th {\n",
       "        text-align: right;\n",
       "    }\n",
       "</style>\n",
       "<table border=\"1\" class=\"dataframe\">\n",
       "  <thead>\n",
       "    <tr style=\"text-align: right;\">\n",
       "      <th></th>\n",
       "      <th>of (wt ratio)</th>\n",
       "      <th>p (psi)</th>\n",
       "      <th>t (K)</th>\n",
       "      <th>rho (kg/m^3)</th>\n",
       "      <th>v (m/s)</th>\n",
       "      <th>Isp (s)</th>\n",
       "      <th>Ivac (m/s)</th>\n",
       "      <th>c* (m/s)</th>\n",
       "      <th>cf</th>\n",
       "      <th>sound (m/s)</th>\n",
       "      <th>...</th>\n",
       "      <th>cv (kJ/kg-K)</th>\n",
       "      <th>gamma</th>\n",
       "      <th>mol mass (g/mol)</th>\n",
       "      <th>h (kJ/kg)</th>\n",
       "      <th>u (kJ/kg)</th>\n",
       "      <th>g (kJ/kg)</th>\n",
       "      <th>s (kJ/kg-K)</th>\n",
       "      <th>dV_P</th>\n",
       "      <th>dV_T</th>\n",
       "      <th>composition</th>\n",
       "    </tr>\n",
       "  </thead>\n",
       "  <tbody>\n",
       "    <tr>\n",
       "      <th>chamber</th>\n",
       "      <td>2.2</td>\n",
       "      <td>27.000000</td>\n",
       "      <td>3434.334430</td>\n",
       "      <td>2.072509</td>\n",
       "      <td>0.000000</td>\n",
       "      <td>0.000000</td>\n",
       "      <td>0.000000</td>\n",
       "      <td>0.000000</td>\n",
       "      <td>0.000000</td>\n",
       "      <td>0.000000</td>\n",
       "      <td>...</td>\n",
       "      <td>4.531233</td>\n",
       "      <td>1.146957</td>\n",
       "      <td>21.630600</td>\n",
       "      <td>-751.530576</td>\n",
       "      <td>-2071.642257</td>\n",
       "      <td>-42064.919582</td>\n",
       "      <td>12.029518</td>\n",
       "      <td>-1.025494</td>\n",
       "      <td>1.459456</td>\n",
       "      <td>NaN</td>\n",
       "    </tr>\n",
       "    <tr>\n",
       "      <th>throat</th>\n",
       "      <td>2.2</td>\n",
       "      <td>15.515926</td>\n",
       "      <td>3236.991413</td>\n",
       "      <td>1.278857</td>\n",
       "      <td>1188.206952</td>\n",
       "      <td>121.163389</td>\n",
       "      <td>2222.889155</td>\n",
       "      <td>1800.499697</td>\n",
       "      <td>0.659932</td>\n",
       "      <td>1.000000</td>\n",
       "      <td>...</td>\n",
       "      <td>4.056712</td>\n",
       "      <td>1.148379</td>\n",
       "      <td>21.891682</td>\n",
       "      <td>-1457.446593</td>\n",
       "      <td>-2686.863179</td>\n",
       "      <td>-40396.894085</td>\n",
       "      <td>12.029518</td>\n",
       "      <td>-1.018866</td>\n",
       "      <td>1.360340</td>\n",
       "      <td>NaN</td>\n",
       "    </tr>\n",
       "    <tr>\n",
       "      <th>exit</th>\n",
       "      <td>2.2</td>\n",
       "      <td>1.000000</td>\n",
       "      <td>2240.964607</td>\n",
       "      <td>0.122923</td>\n",
       "      <td>2650.170526</td>\n",
       "      <td>270.242185</td>\n",
       "      <td>2961.224313</td>\n",
       "      <td>1800.499697</td>\n",
       "      <td>1.471908</td>\n",
       "      <td>4.816033</td>\n",
       "      <td>...</td>\n",
       "      <td>1.879779</td>\n",
       "      <td>1.203982</td>\n",
       "      <td>22.602805</td>\n",
       "      <td>-4263.232486</td>\n",
       "      <td>-5087.578063</td>\n",
       "      <td>-31220.957150</td>\n",
       "      <td>12.029518</td>\n",
       "      <td>-1.000939</td>\n",
       "      <td>1.024276</td>\n",
       "      <td>NaN</td>\n",
       "    </tr>\n",
       "  </tbody>\n",
       "</table>\n",
       "<p>3 rows × 22 columns</p>\n",
       "</div>"
      ],
      "text/plain": [
       "         of (wt ratio)    p (psi)        t (K)  rho (kg/m^3)      v (m/s)  \\\n",
       "chamber            2.2  27.000000  3434.334430      2.072509     0.000000   \n",
       "throat             2.2  15.515926  3236.991413      1.278857  1188.206952   \n",
       "exit               2.2   1.000000  2240.964607      0.122923  2650.170526   \n",
       "\n",
       "            Isp (s)   Ivac (m/s)     c* (m/s)        cf  sound (m/s)  ...  \\\n",
       "chamber    0.000000     0.000000     0.000000  0.000000     0.000000  ...   \n",
       "throat   121.163389  2222.889155  1800.499697  0.659932     1.000000  ...   \n",
       "exit     270.242185  2961.224313  1800.499697  1.471908     4.816033  ...   \n",
       "\n",
       "         cv (kJ/kg-K)     gamma  mol mass (g/mol)    h (kJ/kg)    u (kJ/kg)  \\\n",
       "chamber      4.531233  1.146957         21.630600  -751.530576 -2071.642257   \n",
       "throat       4.056712  1.148379         21.891682 -1457.446593 -2686.863179   \n",
       "exit         1.879779  1.203982         22.602805 -4263.232486 -5087.578063   \n",
       "\n",
       "            g (kJ/kg)  s (kJ/kg-K)      dV_P      dV_T  composition  \n",
       "chamber -42064.919582    12.029518 -1.025494  1.459456          NaN  \n",
       "throat  -40396.894085    12.029518 -1.018866  1.360340          NaN  \n",
       "exit    -31220.957150    12.029518 -1.000939  1.024276          NaN  \n",
       "\n",
       "[3 rows x 22 columns]"
      ]
     },
     "execution_count": 8,
     "metadata": {},
     "output_type": "execute_result"
    }
   ],
   "source": [
    "%%time\n",
    "performance = ppp.ShiftingPerformance()\n",
    "\n",
    "ox = ppp.PROPELLANTS['OXYGEN (LIQUID)']\n",
    "fuel = ppp.PROPELLANTS['RP-1 (RPL)']\n",
    "OF = 2.2\n",
    "\n",
    "performance.add_propellants_by_mass([(fuel, 1.0), (ox, OF)])\n",
    "performance.set_state(P=27., Pe=1)\n",
    "# performance.add_propellants([(fuel, 1.0), (ox, 2.3)])\n",
    "\n",
    "single = pypropep_to_dataframe(performance, ox, fuel)\n",
    "single"
   ]
  },
  {
   "cell_type": "code",
   "execution_count": 9,
   "metadata": {},
   "outputs": [
    {
     "data": {
      "text/html": [
       "<div>\n",
       "<style scoped>\n",
       "    .dataframe tbody tr th:only-of-type {\n",
       "        vertical-align: middle;\n",
       "    }\n",
       "\n",
       "    .dataframe tbody tr th {\n",
       "        vertical-align: top;\n",
       "    }\n",
       "\n",
       "    .dataframe thead th {\n",
       "        text-align: right;\n",
       "    }\n",
       "</style>\n",
       "<table border=\"1\" class=\"dataframe\">\n",
       "  <thead>\n",
       "    <tr style=\"text-align: right;\">\n",
       "      <th></th>\n",
       "      <th></th>\n",
       "      <th>of (wt ratio)</th>\n",
       "      <th>p (psi)</th>\n",
       "      <th>t (K)</th>\n",
       "      <th>rho (kg/m^3)</th>\n",
       "      <th>v (m/s)</th>\n",
       "      <th>Isp (s)</th>\n",
       "      <th>Ivac (m/s)</th>\n",
       "      <th>c* (m/s)</th>\n",
       "      <th>cf</th>\n",
       "      <th>sound (m/s)</th>\n",
       "      <th>...</th>\n",
       "      <th>cv (kJ/kg-K)</th>\n",
       "      <th>gamma</th>\n",
       "      <th>mol mass (g/mol)</th>\n",
       "      <th>h (kJ/kg)</th>\n",
       "      <th>u (kJ/kg)</th>\n",
       "      <th>g (kJ/kg)</th>\n",
       "      <th>s (kJ/kg-K)</th>\n",
       "      <th>dV_P</th>\n",
       "      <th>dV_T</th>\n",
       "      <th>composition</th>\n",
       "    </tr>\n",
       "  </thead>\n",
       "  <tbody>\n",
       "    <tr>\n",
       "      <th rowspan=\"3\" valign=\"top\">0</th>\n",
       "      <th>chamber</th>\n",
       "      <td>1.0</td>\n",
       "      <td>10.000000</td>\n",
       "      <td>1501.824944</td>\n",
       "      <td>1.242570</td>\n",
       "      <td>0.000000</td>\n",
       "      <td>0.000000</td>\n",
       "      <td>0.000000</td>\n",
       "      <td>0.000000</td>\n",
       "      <td>0.000000</td>\n",
       "      <td>0.000000</td>\n",
       "      <td>...</td>\n",
       "      <td>2.259528</td>\n",
       "      <td>1.277290</td>\n",
       "      <td>15.312057</td>\n",
       "      <td>-958.777275</td>\n",
       "      <td>-1774.274390</td>\n",
       "      <td>-20796.258657</td>\n",
       "      <td>13.208917</td>\n",
       "      <td>-1.0</td>\n",
       "      <td>1.0</td>\n",
       "      <td>NaN</td>\n",
       "    </tr>\n",
       "    <tr>\n",
       "      <th>throat</th>\n",
       "      <td>1.0</td>\n",
       "      <td>5.433631</td>\n",
       "      <td>1301.289041</td>\n",
       "      <td>0.779214</td>\n",
       "      <td>962.876554</td>\n",
       "      <td>98.186083</td>\n",
       "      <td>1696.724827</td>\n",
       "      <td>1350.566879</td>\n",
       "      <td>0.712943</td>\n",
       "      <td>1.000000</td>\n",
       "      <td>...</td>\n",
       "      <td>1.739884</td>\n",
       "      <td>1.312092</td>\n",
       "      <td>15.312057</td>\n",
       "      <td>-1422.342857</td>\n",
       "      <td>-2128.948152</td>\n",
       "      <td>-18179.948826</td>\n",
       "      <td>12.877697</td>\n",
       "      <td>-1.0</td>\n",
       "      <td>1.0</td>\n",
       "      <td>NaN</td>\n",
       "    </tr>\n",
       "    <tr>\n",
       "      <th>exit</th>\n",
       "      <td>1.0</td>\n",
       "      <td>1.000000</td>\n",
       "      <td>857.847543</td>\n",
       "      <td>0.217535</td>\n",
       "      <td>1699.395761</td>\n",
       "      <td>173.290141</td>\n",
       "      <td>1973.501858</td>\n",
       "      <td>1350.566879</td>\n",
       "      <td>1.258283</td>\n",
       "      <td>2.029563</td>\n",
       "      <td>...</td>\n",
       "      <td>1.591201</td>\n",
       "      <td>1.341254</td>\n",
       "      <td>15.312057</td>\n",
       "      <td>-2402.750250</td>\n",
       "      <td>-2868.564991</td>\n",
       "      <td>-13733.987452</td>\n",
       "      <td>13.208917</td>\n",
       "      <td>-1.0</td>\n",
       "      <td>1.0</td>\n",
       "      <td>NaN</td>\n",
       "    </tr>\n",
       "    <tr>\n",
       "      <th rowspan=\"2\" valign=\"top\">1</th>\n",
       "      <th>chamber</th>\n",
       "      <td>1.2</td>\n",
       "      <td>10.000000</td>\n",
       "      <td>1788.842915</td>\n",
       "      <td>1.060780</td>\n",
       "      <td>0.000000</td>\n",
       "      <td>0.000000</td>\n",
       "      <td>0.000000</td>\n",
       "      <td>0.000000</td>\n",
       "      <td>0.000000</td>\n",
       "      <td>0.000000</td>\n",
       "      <td>...</td>\n",
       "      <td>1.746469</td>\n",
       "      <td>1.306933</td>\n",
       "      <td>15.570076</td>\n",
       "      <td>-908.535514</td>\n",
       "      <td>-1863.787899</td>\n",
       "      <td>-24947.717126</td>\n",
       "      <td>13.438397</td>\n",
       "      <td>-1.0</td>\n",
       "      <td>1.0</td>\n",
       "      <td>NaN</td>\n",
       "    </tr>\n",
       "    <tr>\n",
       "      <th>throat</th>\n",
       "      <td>1.2</td>\n",
       "      <td>5.420839</td>\n",
       "      <td>1545.097522</td>\n",
       "      <td>0.665745</td>\n",
       "      <td>1043.324027</td>\n",
       "      <td>106.389443</td>\n",
       "      <td>1834.153074</td>\n",
       "      <td>1458.868224</td>\n",
       "      <td>0.715160</td>\n",
       "      <td>1.000000</td>\n",
       "      <td>...</td>\n",
       "      <td>1.672537</td>\n",
       "      <td>1.319279</td>\n",
       "      <td>15.570076</td>\n",
       "      <td>-1452.797916</td>\n",
       "      <td>-2277.888862</td>\n",
       "      <td>-21711.200678</td>\n",
       "      <td>13.111407</td>\n",
       "      <td>-1.0</td>\n",
       "      <td>1.0</td>\n",
       "      <td>NaN</td>\n",
       "    </tr>\n",
       "    <tr>\n",
       "      <th>...</th>\n",
       "      <th>...</th>\n",
       "      <td>...</td>\n",
       "      <td>...</td>\n",
       "      <td>...</td>\n",
       "      <td>...</td>\n",
       "      <td>...</td>\n",
       "      <td>...</td>\n",
       "      <td>...</td>\n",
       "      <td>...</td>\n",
       "      <td>...</td>\n",
       "      <td>...</td>\n",
       "      <td>...</td>\n",
       "      <td>...</td>\n",
       "      <td>...</td>\n",
       "      <td>...</td>\n",
       "      <td>...</td>\n",
       "      <td>...</td>\n",
       "      <td>...</td>\n",
       "      <td>...</td>\n",
       "      <td>...</td>\n",
       "      <td>...</td>\n",
       "      <td>...</td>\n",
       "    </tr>\n",
       "    <tr>\n",
       "      <th rowspan=\"2\" valign=\"top\">298</th>\n",
       "      <th>throat</th>\n",
       "      <td>3.6</td>\n",
       "      <td>32.379027</td>\n",
       "      <td>3313.559347</td>\n",
       "      <td>3.100940</td>\n",
       "      <td>1129.959107</td>\n",
       "      <td>115.223762</td>\n",
       "      <td>2066.336578</td>\n",
       "      <td>1662.857380</td>\n",
       "      <td>0.679529</td>\n",
       "      <td>1.000000</td>\n",
       "      <td>...</td>\n",
       "      <td>1.544563</td>\n",
       "      <td>1.206735</td>\n",
       "      <td>26.038606</td>\n",
       "      <td>-1284.811638</td>\n",
       "      <td>-2342.879888</td>\n",
       "      <td>-35590.691570</td>\n",
       "      <td>10.353181</td>\n",
       "      <td>-1.0</td>\n",
       "      <td>1.0</td>\n",
       "      <td>NaN</td>\n",
       "    </tr>\n",
       "    <tr>\n",
       "      <th>exit</th>\n",
       "      <td>3.6</td>\n",
       "      <td>1.000000</td>\n",
       "      <td>1782.247929</td>\n",
       "      <td>0.178056</td>\n",
       "      <td>2604.887188</td>\n",
       "      <td>265.624570</td>\n",
       "      <td>2823.360367</td>\n",
       "      <td>1662.857380</td>\n",
       "      <td>1.566513</td>\n",
       "      <td>7.554591</td>\n",
       "      <td>...</td>\n",
       "      <td>1.386278</td>\n",
       "      <td>1.230340</td>\n",
       "      <td>26.038606</td>\n",
       "      <td>-4039.123967</td>\n",
       "      <td>-4608.221952</td>\n",
       "      <td>-22817.878933</td>\n",
       "      <td>10.536556</td>\n",
       "      <td>-1.0</td>\n",
       "      <td>1.0</td>\n",
       "      <td>NaN</td>\n",
       "    </tr>\n",
       "    <tr>\n",
       "      <th rowspan=\"3\" valign=\"top\">299</th>\n",
       "      <th>chamber</th>\n",
       "      <td>3.8</td>\n",
       "      <td>57.500000</td>\n",
       "      <td>3635.666500</td>\n",
       "      <td>5.095896</td>\n",
       "      <td>0.000000</td>\n",
       "      <td>0.000000</td>\n",
       "      <td>0.000000</td>\n",
       "      <td>0.000000</td>\n",
       "      <td>0.000000</td>\n",
       "      <td>0.000000</td>\n",
       "      <td>...</td>\n",
       "      <td>5.903593</td>\n",
       "      <td>1.127969</td>\n",
       "      <td>26.438095</td>\n",
       "      <td>-636.393580</td>\n",
       "      <td>-1779.773436</td>\n",
       "      <td>-38476.118951</td>\n",
       "      <td>10.407920</td>\n",
       "      <td>-1.0</td>\n",
       "      <td>1.0</td>\n",
       "      <td>NaN</td>\n",
       "    </tr>\n",
       "    <tr>\n",
       "      <th>throat</th>\n",
       "      <td>3.8</td>\n",
       "      <td>32.385709</td>\n",
       "      <td>3297.592984</td>\n",
       "      <td>3.164413</td>\n",
       "      <td>1118.405790</td>\n",
       "      <td>114.045652</td>\n",
       "      <td>2045.671375</td>\n",
       "      <td>1646.336369</td>\n",
       "      <td>0.679330</td>\n",
       "      <td>1.000000</td>\n",
       "      <td>...</td>\n",
       "      <td>1.525663</td>\n",
       "      <td>1.206133</td>\n",
       "      <td>26.438095</td>\n",
       "      <td>-1261.813455</td>\n",
       "      <td>-2298.872655</td>\n",
       "      <td>-34987.550981</td>\n",
       "      <td>10.227380</td>\n",
       "      <td>-1.0</td>\n",
       "      <td>1.0</td>\n",
       "      <td>NaN</td>\n",
       "    </tr>\n",
       "    <tr>\n",
       "      <th>exit</th>\n",
       "      <td>3.8</td>\n",
       "      <td>1.000000</td>\n",
       "      <td>1776.182153</td>\n",
       "      <td>0.181405</td>\n",
       "      <td>2579.491103</td>\n",
       "      <td>263.034890</td>\n",
       "      <td>2796.041990</td>\n",
       "      <td>1646.336369</td>\n",
       "      <td>1.566807</td>\n",
       "      <td>7.563264</td>\n",
       "      <td>...</td>\n",
       "      <td>1.369571</td>\n",
       "      <td>1.229626</td>\n",
       "      <td>26.438095</td>\n",
       "      <td>-3963.280756</td>\n",
       "      <td>-4521.871840</td>\n",
       "      <td>-22449.642141</td>\n",
       "      <td>10.407920</td>\n",
       "      <td>-1.0</td>\n",
       "      <td>1.0</td>\n",
       "      <td>NaN</td>\n",
       "    </tr>\n",
       "  </tbody>\n",
       "</table>\n",
       "<p>900 rows × 22 columns</p>\n",
       "</div>"
      ],
      "text/plain": [
       "             of (wt ratio)    p (psi)        t (K)  rho (kg/m^3)      v (m/s)  \\\n",
       "0   chamber            1.0  10.000000  1501.824944      1.242570     0.000000   \n",
       "    throat             1.0   5.433631  1301.289041      0.779214   962.876554   \n",
       "    exit               1.0   1.000000   857.847543      0.217535  1699.395761   \n",
       "1   chamber            1.2  10.000000  1788.842915      1.060780     0.000000   \n",
       "    throat             1.2   5.420839  1545.097522      0.665745  1043.324027   \n",
       "...                    ...        ...          ...           ...          ...   \n",
       "298 throat             3.6  32.379027  3313.559347      3.100940  1129.959107   \n",
       "    exit               3.6   1.000000  1782.247929      0.178056  2604.887188   \n",
       "299 chamber            3.8  57.500000  3635.666500      5.095896     0.000000   \n",
       "    throat             3.8  32.385709  3297.592984      3.164413  1118.405790   \n",
       "    exit               3.8   1.000000  1776.182153      0.181405  2579.491103   \n",
       "\n",
       "                Isp (s)   Ivac (m/s)     c* (m/s)        cf  sound (m/s)  ...  \\\n",
       "0   chamber    0.000000     0.000000     0.000000  0.000000     0.000000  ...   \n",
       "    throat    98.186083  1696.724827  1350.566879  0.712943     1.000000  ...   \n",
       "    exit     173.290141  1973.501858  1350.566879  1.258283     2.029563  ...   \n",
       "1   chamber    0.000000     0.000000     0.000000  0.000000     0.000000  ...   \n",
       "    throat   106.389443  1834.153074  1458.868224  0.715160     1.000000  ...   \n",
       "...                 ...          ...          ...       ...          ...  ...   \n",
       "298 throat   115.223762  2066.336578  1662.857380  0.679529     1.000000  ...   \n",
       "    exit     265.624570  2823.360367  1662.857380  1.566513     7.554591  ...   \n",
       "299 chamber    0.000000     0.000000     0.000000  0.000000     0.000000  ...   \n",
       "    throat   114.045652  2045.671375  1646.336369  0.679330     1.000000  ...   \n",
       "    exit     263.034890  2796.041990  1646.336369  1.566807     7.563264  ...   \n",
       "\n",
       "             cv (kJ/kg-K)     gamma  mol mass (g/mol)    h (kJ/kg)  \\\n",
       "0   chamber      2.259528  1.277290         15.312057  -958.777275   \n",
       "    throat       1.739884  1.312092         15.312057 -1422.342857   \n",
       "    exit         1.591201  1.341254         15.312057 -2402.750250   \n",
       "1   chamber      1.746469  1.306933         15.570076  -908.535514   \n",
       "    throat       1.672537  1.319279         15.570076 -1452.797916   \n",
       "...                   ...       ...               ...          ...   \n",
       "298 throat       1.544563  1.206735         26.038606 -1284.811638   \n",
       "    exit         1.386278  1.230340         26.038606 -4039.123967   \n",
       "299 chamber      5.903593  1.127969         26.438095  -636.393580   \n",
       "    throat       1.525663  1.206133         26.438095 -1261.813455   \n",
       "    exit         1.369571  1.229626         26.438095 -3963.280756   \n",
       "\n",
       "               u (kJ/kg)     g (kJ/kg)  s (kJ/kg-K)  dV_P  dV_T  composition  \n",
       "0   chamber -1774.274390 -20796.258657    13.208917  -1.0   1.0          NaN  \n",
       "    throat  -2128.948152 -18179.948826    12.877697  -1.0   1.0          NaN  \n",
       "    exit    -2868.564991 -13733.987452    13.208917  -1.0   1.0          NaN  \n",
       "1   chamber -1863.787899 -24947.717126    13.438397  -1.0   1.0          NaN  \n",
       "    throat  -2277.888862 -21711.200678    13.111407  -1.0   1.0          NaN  \n",
       "...                  ...           ...          ...   ...   ...          ...  \n",
       "298 throat  -2342.879888 -35590.691570    10.353181  -1.0   1.0          NaN  \n",
       "    exit    -4608.221952 -22817.878933    10.536556  -1.0   1.0          NaN  \n",
       "299 chamber -1779.773436 -38476.118951    10.407920  -1.0   1.0          NaN  \n",
       "    throat  -2298.872655 -34987.550981    10.227380  -1.0   1.0          NaN  \n",
       "    exit    -4521.871840 -22449.642141    10.407920  -1.0   1.0          NaN  \n",
       "\n",
       "[900 rows x 22 columns]"
      ]
     },
     "execution_count": 9,
     "metadata": {},
     "output_type": "execute_result"
    }
   ],
   "source": [
    "show = ranged_sim('OXYGEN (LIQUID)', 'RP-1 (RPL)', list(np.arange(1, 4, 0.2)), list(np.arange(10., 60., 2.5)), assumption='FROZEN')\n",
    "\n",
    "show"
   ]
  },
  {
   "cell_type": "code",
   "execution_count": 10,
   "metadata": {},
   "outputs": [
    {
     "data": {
      "text/plain": [
       "Index(['1.0', '1.2', '1.4', '1.6', '1.8', '2.0', '2.2', '2.4', '2.6', '2.8',\n",
       "       '3.0', '3.2', '3.4', '3.6', '3.8'],\n",
       "      dtype='object')"
      ]
     },
     "execution_count": 10,
     "metadata": {},
     "output_type": "execute_result"
    }
   ],
   "source": [
    "filtered = heatmap_data_filter(show, 'exit', 'Isp (s)')\n",
    "# list(filtered.columns.round(2))\n",
    "\n",
    "filtered.columns =  ['{:.1f}'.format(x) for x in filtered.columns.round(2)]\n",
    "\n",
    "filtered.columns\n"
   ]
  },
  {
   "cell_type": "code",
   "execution_count": 11,
   "metadata": {},
   "outputs": [],
   "source": [
    "# exam = pd.pivot(filtered, index='of (wt ratio)', columns='p (psi)', values = 'Isp (s)' )\n",
    "# # exam = exam.rename_axis(None)\n",
    "# exam.columns.name = None\n",
    "# exam.index.name = None\n",
    "# exam.attrs = filtered.attrs\n",
    "# exam"
   ]
  },
  {
   "cell_type": "code",
   "execution_count": 12,
   "metadata": {},
   "outputs": [],
   "source": [
    "def heatmap(data, row_labels, col_labels, ax=None,\n",
    "            cbar_kw=None, cbarlabel=\"\", **kwargs):\n",
    "    \"\"\"\n",
    "    Create a heatmap from a numpy array and two lists of labels.\n",
    "\n",
    "    Parameters\n",
    "    ----------\n",
    "    data\n",
    "        A 2D numpy array of shape (M, N).\n",
    "    row_labels\n",
    "        A list or array of length M with the labels for the rows.\n",
    "    col_labels\n",
    "        A list or array of length N with the labels for the columns.\n",
    "    ax\n",
    "        A `matplotlib.axes.Axes` instance to which the heatmap is plotted.  If\n",
    "        not provided, use current axes or create a new one.  Optional.\n",
    "    cbar_kw\n",
    "        A dictionary with arguments to `matplotlib.Figure.colorbar`.  Optional.\n",
    "    cbarlabel\n",
    "        The label for the colorbar.  Optional.\n",
    "    **kwargs\n",
    "        All other arguments are forwarded to `imshow`.\n",
    "    \"\"\"\n",
    "\n",
    "    if ax is None:\n",
    "        ax = plt.gca()\n",
    "\n",
    "    if cbar_kw is None:\n",
    "        cbar_kw = {}\n",
    "\n",
    "    # Plot the heatmap\n",
    "    im = ax.imshow(data, **kwargs)\n",
    "\n",
    "    # Create colorbar\n",
    "    cbar = ax.figure.colorbar(im, ax=ax, **cbar_kw)\n",
    "    cbar.ax.set_ylabel(cbarlabel, rotation=-90, va=\"bottom\")\n",
    "\n",
    "    # Show all ticks and label them with the respective list entries.\n",
    "    ax.set_xticks(np.arange(data.shape[1]), labels=col_labels)\n",
    "    ax.set_yticks(np.arange(data.shape[0]), labels=row_labels)\n",
    "\n",
    "    # Let the horizontal axes labeling appear on top.\n",
    "    ax.tick_params(top=True, bottom=False,\n",
    "                   labeltop=True, labelbottom=False)\n",
    "\n",
    "    # Rotate the tick labels and set their alignment.\n",
    "    plt.setp(ax.get_xticklabels(), rotation=-30, ha=\"right\",\n",
    "             rotation_mode=\"anchor\")\n",
    "\n",
    "    # Turn spines off and create white grid.\n",
    "    ax.spines[:].set_visible(False)\n",
    "\n",
    "    ax.set_xticks(np.arange(data.shape[1]+1)-.5, minor=True)\n",
    "    ax.set_yticks(np.arange(data.shape[0]+1)-.5, minor=True)\n",
    "    ax.grid(which=\"minor\", color=\"w\", linestyle='-', linewidth=3)\n",
    "    ax.tick_params(which=\"minor\", bottom=False, left=False)\n",
    "\n",
    "    return im, cbar"
   ]
  },
  {
   "cell_type": "code",
   "execution_count": 13,
   "metadata": {},
   "outputs": [],
   "source": [
    "# plot = exam.T.iloc[::-1]\n",
    "# plot"
   ]
  },
  {
   "cell_type": "code",
   "execution_count": 14,
   "metadata": {},
   "outputs": [
    {
     "data": {
      "text/plain": [
       "[Text(0.5, 23.52222222222222, 'OF ratio'),\n",
       " Text(50.722222222222214, 0.5, 'Pressure'),\n",
       " Text(0.5, 1.0, 'Specific impulse of LOX and RP1')]"
      ]
     },
     "execution_count": 14,
     "metadata": {},
     "output_type": "execute_result"
    },
    {
     "data": {
      "image/png": "[encoded data removed]",
      "text/plain": [
       "<Figure size 640x480 with 2 Axes>"
      ]
     },
     "metadata": {},
     "output_type": "display_data"
    }
   ],
   "source": [
    "fig, ax = plt.subplots()\n",
    "sns.set_theme()\n",
    "sns.heatmap(filtered)\n",
    "ax.set(xlabel='OF ratio', ylabel='Pressure', title='Specific impulse of LOX and RP1')\n",
    "# ax.title(\"This is a title\")"
   ]
  },
  {
   "cell_type": "code",
   "execution_count": 15,
   "metadata": {},
   "outputs": [],
   "source": [
    "# x_ticks = list(map(str, plot.columns.round(1)))"
   ]
  },
  {
   "cell_type": "code",
   "execution_count": 16,
   "metadata": {},
   "outputs": [
    {
     "data": {
      "application/vnd.plotly.v1+json": {
       "config": {
        "plotlyServerURL": "https://plot.ly"
       },
       "data": [
        {
         "coloraxis": "coloraxis",
         "hovertemplate": "OF Ratio (%weight): %{x}<br>Pressure (atm): %{y}<br>color: %{z}<extra></extra>",
         "name": "0",
         "type": "heatmap",
         "x": [
          "1.0",
          "1.2",
          "1.4",
          "1.6",
          "1.8",
          "2.0",
          "2.2",
          "2.4",
          "2.6",
          "2.8",
          "3.0",
          "3.2",
          "3.4",
          "3.6",
          "3.8"
         ],
         "xaxis": "x",
         "y": [
          57.5,
          55,
          52.5,
          50,
          47.5,
          45,
          42.5,
          40,
          37.5,
          35,
          32.5,
          30,
          27.5,
          25,
          22.5,
          20,
          17.5,
          15,
          12.5,
          10
         ],
         "yaxis": "y",
         "z": [
          [
           213.35789069873576,
           225.88118119752767,
           249.52000596787767,
           265.3947935185956,
           275.1316252492999,
           280.2160032748258,
           281.8215110306747,
           281.11914668268423,
           279.1609825126571,
           276.62585703649995,
           273.87066676840885,
           271.07026732426755,
           268.3085370503046,
           265.6245698609757,
           263.03488991490764
          ],
          [
           212.52789918621454,
           225.1354700744929,
           248.70003163473228,
           264.4645795008593,
           274.09828683195417,
           279.09525221183856,
           280.63738858043473,
           279.8995813015148,
           277.9275706366876,
           275.391407178231,
           272.6420401070032,
           269.85103133136175,
           267.1005933729875,
           264.4288725351781,
           261.85192004951705
          ],
          [
           211.65203314882848,
           224.34671503431608,
           247.8289989427853,
           263.4772864942221,
           273.00278896820276,
           277.9085855429354,
           279.3851994776195,
           278.6110476398136,
           276.6251914210732,
           274.0883436362688,
           271.3452720375161,
           268.564262175523,
           265.8257579473424,
           263.1669519816153,
           260.60340656180506
          ],
          [
           210.725254203063,
           223.50985422289676,
           246.90097191481493,
           262.4263524117933,
           271.83810482611057,
           276.6486537332654,
           278.057418391528,
           277.24603982462895,
           275.24625835145,
           272.70911545808906,
           269.9729633794262,
           267.2026209990624,
           264.4767502686869,
           261.8316169724322,
           259.28218006871793
          ],
          [
           209.74166747352618,
           222.61897085076146,
           245.90907984387422,
           261.30416395364256,
           270.5959581545609,
           275.30685931892333,
           276.6452471947143,
           275.7957333874072,
           273.7820309751258,
           271.24498424044407,
           268.51642810936505,
           265.7575245240209,
           263.04509209546205,
           260.41442946386076,
           257.8799621718159
          ],
          [
           208.69424847843686,
           221.66703578423264,
           244.84513286250015,
           260.1017003986332,
           269.26669333360394,
           273.87308448087794,
           275.13836284914,
           274.24972173772426,
           272.2221092631428,
           269.68571276242454,
           266.9654397906899,
           264.218860777615,
           261.52079713776163,
           258.9054938460585,
           256.38688476005626
          ],
          [
           207.57468242635102,
           220.64558506472437,
           243.69935265854372,
           258.8081219497145,
           267.8387533251582,
           272.33527227531255,
           273.52448501645875,
           272.5956625888621,
           270.5541903143453,
           268.01905534018636,
           265.3079293274325,
           262.57460656908955,
           259.8919148686664,
           257.2930507787579,
           254.79133228418758
          ],
          [
           206.37300793725447,
           219.54441643029335,
           242.4599319772359,
           257.41046068151195,
           266.29820588707736,
           270.6789160776852,
           271.7888330219368,
           270.81876458286087,
           268.76355371594923,
           266.23032344204904,
           263.5293744400008,
           260.8104190706176,
           258.14426109753356,
           255.56301435791332,
           253.07934888670806
          ],
          [
           205.07706119145575,
           218.3510426202441,
           241.11248965303577,
           255.89290381344165,
           264.62813623224497,
           268.8864452055459,
           269.91351135916005,
           268.90102389179384,
           266.8322619856138,
           264.30183445744206,
           261.61215338314616,
           258.90886691496087,
           256.26058269082324,
           253.69824998686056,
           251.23397442115703
          ],
          [
           203.67184911392852,
           217.0499706125749,
           239.63924308964468,
           254.2358844266463,
           262.8077477898131,
           266.93620402665294,
           267.8765213290844,
           266.82040817741324,
           264.7384057236749,
           262.21170988811417,
           259.53469483136297,
           256.84853749050126,
           254.21965683368077,
           251.67784273998612,
           249.23448411049114
          ],
          [
           202.13866717454906,
           215.6217256604873,
           238.01791881203494,
           252.41499003914726,
           260.8109451058528,
           264.80119962353575,
           265.65043706517616,
           264.5494716577344,
           262.45456386671725,
           259.9328971962875,
           257.2700573166927,
           254.60280087331955,
           251.9951403568778,
           249.47561673041403,
           247.05498491586184
          ],
          [
           200.45373627966504,
           214.04146019023474,
           236.22007500622934,
           250.39904996405932,
           258.6046461873543,
           262.44714712345626,
           263.2005377331746,
           262.0533456960389,
           259.9461822780684,
           257.4309769099868,
           254.78422697622912,
           252.1379505490812,
           249.55364128119123,
           247.0585620945299,
           244.6627700887647
          ],
          [
           198.58623688468924,
           212.2767211737825,
           234.20883015066872,
           248.14768614887888,
           256.1460380997204,
           259.8297841066785,
           260.4819512936305,
           259.2872311999202,
           257.16858246614095,
           254.66167572337707,
           252.0333696149456,
           249.4105438160855,
           246.8521675653715,
           244.38409486958133,
           242.0156759142009
          ],
          [
           196.49531633798924,
           210.28431269646413,
           231.93502336878433,
           245.6073676292131,
           253.3784021535499,
           256.89065996753055,
           257.4354773994289,
           256.1918660526752,
           254.06291753860307,
           251.5666382313116,
           248.95959172614678,
           246.36331886778086,
           243.8339922359483,
           241.39607871263703,
           239.05804526618516
          ],
          [
           194.1253098976576,
           208.00506504022337,
           229.33169406172047,
           242.70509719397435,
           250.22464882544685,
           253.55033918063813,
           253.98091074805248,
           252.6870996254817,
           250.54946979079594,
           248.0668219967509,
           245.48464964099898,
           242.91874850413473,
           240.4224397880529,
           238.01850467101528,
           235.71470971192798
          ],
          [
           191.39792564452233,
           205.35528249092837,
           226.30422284081908,
           239.33815180913305,
           246.576489713274,
           249.6976102239286,
           250.00601687512952,
           248.66085344603562,
           246.5168871560596,
           244.05184285725855,
           241.4992142397194,
           238.9686483335637,
           236.510295165347,
           234.14529155477862,
           231.88054995589385
          ],
          [
           188.19829443519862,
           202.2117141995119,
           222.71371433751557,
           235.35593531366996,
           242.27582706226568,
           245.17033799630596,
           245.34733323188743,
           243.95003440686494,
           241.80324295806793,
           239.36120572878826,
           236.8443340573006,
           234.35560053645173,
           231.94176532402298,
           229.62219834642875,
           227.40280327321238
          ],
          [
           184.34908010937824,
           198.38316425325772,
           218.34529201622337,
           230.52638270419305,
           237.07949898879912,
           239.71983397492548,
           239.7547032216678,
           238.30523342122214,
           236.16086863156343,
           233.74945851651043,
           231.27708013491701,
           228.83918586082373,
           226.47884557170272,
           224.21350358120065,
           222.04798099028858
          ],
          [
           179.5571533703601,
           193.5524209037725,
           212.84358560010716,
           224.466864616853,
           230.58812358866462,
           232.9386986057051,
           232.8188874720052,
           231.3187670992193,
           229.1852478937472,
           226.81605514583873,
           224.40076162877506,
           222.02676361816376,
           219.732821847923,
           217.5343203491481,
           215.43501418004365
          ],
          [
           173.290140929563,
           187.14147334481393,
           205.56333934727417,
           216.48541233123797,
           222.0822252328291,
           224.09524065392188,
           223.8060884208437,
           222.26049836333516,
           220.15236939033443,
           217.8438545401614,
           215.50574505388872,
           213.21592831510551,
           211.0084801088137,
           208.89634092718094,
           206.8820359672757
          ]
         ]
        }
       ],
       "layout": {
        "coloraxis": {
         "colorscale": [
          [
           0,
           "#440154"
          ],
          [
           0.1111111111111111,
           "#482878"
          ],
          [
           0.2222222222222222,
           "#3e4989"
          ],
          [
           0.3333333333333333,
           "#31688e"
          ],
          [
           0.4444444444444444,
           "#26828e"
          ],
          [
           0.5555555555555556,
           "#1f9e89"
          ],
          [
           0.6666666666666666,
           "#35b779"
          ],
          [
           0.7777777777777778,
           "#6ece58"
          ],
          [
           0.8888888888888888,
           "#b5de2b"
          ],
          [
           1,
           "#fde725"
          ]
         ]
        },
        "height": 600,
        "template": {
         "data": {
          "candlestick": [
           {
            "decreasing": {
             "line": {
              "color": "#000033"
             }
            },
            "increasing": {
             "line": {
              "color": "#000032"
             }
            },
            "type": "candlestick"
           }
          ],
          "contour": [
           {
            "colorscale": [
             [
              0,
              "#000011"
             ],
             [
              0.1111111111111111,
              "#000012"
             ],
             [
              0.2222222222222222,
              "#000013"
             ],
             [
              0.3333333333333333,
              "#000014"
             ],
             [
              0.4444444444444444,
              "#000015"
             ],
             [
              0.5555555555555556,
              "#000016"
             ],
             [
              0.6666666666666666,
              "#000017"
             ],
             [
              0.7777777777777778,
              "#000018"
             ],
             [
              0.8888888888888888,
              "#000019"
             ],
             [
              1,
              "#000020"
             ]
            ],
            "type": "contour"
           }
          ],
          "contourcarpet": [
           {
            "colorscale": [
             [
              0,
              "#000011"
             ],
             [
              0.1111111111111111,
              "#000012"
             ],
             [
              0.2222222222222222,
              "#000013"
             ],
             [
              0.3333333333333333,
              "#000014"
             ],
             [
              0.4444444444444444,
              "#000015"
             ],
             [
              0.5555555555555556,
              "#000016"
             ],
             [
              0.6666666666666666,
              "#000017"
             ],
             [
              0.7777777777777778,
              "#000018"
             ],
             [
              0.8888888888888888,
              "#000019"
             ],
             [
              1,
              "#000020"
             ]
            ],
            "type": "contourcarpet"
           }
          ],
          "heatmap": [
           {
            "colorscale": [
             [
              0,
              "#000011"
             ],
             [
              0.1111111111111111,
              "#000012"
             ],
             [
              0.2222222222222222,
              "#000013"
             ],
             [
              0.3333333333333333,
              "#000014"
             ],
             [
              0.4444444444444444,
              "#000015"
             ],
             [
              0.5555555555555556,
              "#000016"
             ],
             [
              0.6666666666666666,
              "#000017"
             ],
             [
              0.7777777777777778,
              "#000018"
             ],
             [
              0.8888888888888888,
              "#000019"
             ],
             [
              1,
              "#000020"
             ]
            ],
            "type": "heatmap"
           }
          ],
          "histogram2d": [
           {
            "colorscale": [
             [
              0,
              "#000011"
             ],
             [
              0.1111111111111111,
              "#000012"
             ],
             [
              0.2222222222222222,
              "#000013"
             ],
             [
              0.3333333333333333,
              "#000014"
             ],
             [
              0.4444444444444444,
              "#000015"
             ],
             [
              0.5555555555555556,
              "#000016"
             ],
             [
              0.6666666666666666,
              "#000017"
             ],
             [
              0.7777777777777778,
              "#000018"
             ],
             [
              0.8888888888888888,
              "#000019"
             ],
             [
              1,
              "#000020"
             ]
            ],
            "type": "histogram2d"
           }
          ],
          "icicle": [
           {
            "textfont": {
             "color": "white"
            },
            "type": "icicle"
           }
          ],
          "sankey": [
           {
            "textfont": {
             "color": "#000036"
            },
            "type": "sankey"
           }
          ],
          "scatter": [
           {
            "marker": {
             "line": {
              "width": 0
             }
            },
            "type": "scatter"
           }
          ],
          "table": [
           {
            "cells": {
             "fill": {
              "color": "#000038"
             },
             "font": {
              "color": "#000037"
             },
             "line": {
              "color": "#000039"
             }
            },
            "header": {
             "fill": {
              "color": "#000040"
             },
             "font": {
              "color": "#000036"
             },
             "line": {
              "color": "#000039"
             }
            },
            "type": "table"
           }
          ],
          "waterfall": [
           {
            "connector": {
             "line": {
              "color": "#000036",
              "width": 2
             }
            },
            "decreasing": {
             "marker": {
              "color": "#000033"
             }
            },
            "increasing": {
             "marker": {
              "color": "#000032"
             }
            },
            "totals": {
             "marker": {
              "color": "#000034"
             }
            },
            "type": "waterfall"
           }
          ]
         },
         "layout": {
          "coloraxis": {
           "colorscale": [
            [
             0,
             "#000011"
            ],
            [
             0.1111111111111111,
             "#000012"
            ],
            [
             0.2222222222222222,
             "#000013"
            ],
            [
             0.3333333333333333,
             "#000014"
            ],
            [
             0.4444444444444444,
             "#000015"
            ],
            [
             0.5555555555555556,
             "#000016"
            ],
            [
             0.6666666666666666,
             "#000017"
            ],
            [
             0.7777777777777778,
             "#000018"
            ],
            [
             0.8888888888888888,
             "#000019"
            ],
            [
             1,
             "#000020"
            ]
           ]
          },
          "colorscale": {
           "diverging": [
            [
             0,
             "#000021"
            ],
            [
             0.1,
             "#000022"
            ],
            [
             0.2,
             "#000023"
            ],
            [
             0.3,
             "#000024"
            ],
            [
             0.4,
             "#000025"
            ],
            [
             0.5,
             "#000026"
            ],
            [
             0.6,
             "#000027"
            ],
            [
             0.7,
             "#000028"
            ],
            [
             0.8,
             "#000029"
            ],
            [
             0.9,
             "#000030"
            ],
            [
             1,
             "#000031"
            ]
           ],
           "sequential": [
            [
             0,
             "#000011"
            ],
            [
             0.1111111111111111,
             "#000012"
            ],
            [
             0.2222222222222222,
             "#000013"
            ],
            [
             0.3333333333333333,
             "#000014"
            ],
            [
             0.4444444444444444,
             "#000015"
            ],
            [
             0.5555555555555556,
             "#000016"
            ],
            [
             0.6666666666666666,
             "#000017"
            ],
            [
             0.7777777777777778,
             "#000018"
            ],
            [
             0.8888888888888888,
             "#000019"
            ],
            [
             1,
             "#000020"
            ]
           ],
           "sequentialminus": [
            [
             0,
             "#000011"
            ],
            [
             0.1111111111111111,
             "#000012"
            ],
            [
             0.2222222222222222,
             "#000013"
            ],
            [
             0.3333333333333333,
             "#000014"
            ],
            [
             0.4444444444444444,
             "#000015"
            ],
            [
             0.5555555555555556,
             "#000016"
            ],
            [
             0.6666666666666666,
             "#000017"
            ],
            [
             0.7777777777777778,
             "#000018"
            ],
            [
             0.8888888888888888,
             "#000019"
            ],
            [
             1,
             "#000020"
            ]
           ]
          },
          "colorway": [
           "#000001",
           "#000002",
           "#000003",
           "#000004",
           "#000005",
           "#000006",
           "#000007",
           "#000008",
           "#000009",
           "#000010"
          ]
         }
        },
        "title": {
         "text": "Specific Impulse of LOX, RP1 Engine"
        },
        "width": 600,
        "xaxis": {
         "anchor": "y",
         "domain": [
          0,
          1
         ],
         "title": {
          "text": "OF Ratio (%weight)"
         }
        },
        "yaxis": {
         "anchor": "x",
         "autorange": true,
         "domain": [
          0,
          1
         ],
         "title": {
          "text": "Pressure (atm)"
         }
        }
       }
      }
     },
     "metadata": {},
     "output_type": "display_data"
    }
   ],
   "source": [
    "fig = px.imshow(filtered, width=600, height=600, origin='lower', color_continuous_scale='viridis', \n",
    "                labels={\"x\": \"OF Ratio (%weight)\", \"y\": \"Pressure (atm)\", \"hover\": \"Isp\"}, title=\"Specific Impulse of LOX, RP1 Engine\", aspect=\"auto\")\n",
    "fig"
   ]
  },
  {
   "cell_type": "code",
   "execution_count": 17,
   "metadata": {},
   "outputs": [
    {
     "data": {
      "text/plain": [
       "numpy.ndarray"
      ]
     },
     "execution_count": 17,
     "metadata": {},
     "output_type": "execute_result"
    }
   ],
   "source": [
    "filtered.index.values\n",
    "type(filtered.columns.values)"
   ]
  },
  {
   "cell_type": "code",
   "execution_count": 18,
   "metadata": {},
   "outputs": [
    {
     "data": {
      "text/plain": [
       "array([0.        , 0.07142857, 0.14285714, 0.21428571, 0.28571429,\n",
       "       0.35714286, 0.42857143, 0.5       , 0.57142857, 0.64285714,\n",
       "       0.71428571, 0.78571429, 0.85714286, 0.92857143, 1.        ])"
      ]
     },
     "execution_count": 18,
     "metadata": {},
     "output_type": "execute_result"
    }
   ],
   "source": [
    "np.linspace(0.0, 1.0, 15)"
   ]
  },
  {
   "cell_type": "code",
   "execution_count": 19,
   "metadata": {},
   "outputs": [
    {
     "data": {
      "application/vnd.plotly.v1+json": {
       "config": {
        "plotlyServerURL": "https://plot.ly"
       },
       "data": [
        {
         "colorscale": [
          [
           0,
           "#440154"
          ],
          [
           0.1111111111111111,
           "#482878"
          ],
          [
           0.2222222222222222,
           "#3e4989"
          ],
          [
           0.3333333333333333,
           "#31688e"
          ],
          [
           0.4444444444444444,
           "#26828e"
          ],
          [
           0.5555555555555556,
           "#1f9e89"
          ],
          [
           0.6666666666666666,
           "#35b779"
          ],
          [
           0.7777777777777778,
           "#6ece58"
          ],
          [
           0.8888888888888888,
           "#b5de2b"
          ],
          [
           1,
           "#fde725"
          ]
         ],
         "type": "surface",
         "x": [
          "1.0",
          "1.2",
          "1.4",
          "1.6",
          "1.8",
          "2.0",
          "2.2",
          "2.4",
          "2.6",
          "2.8",
          "3.0",
          "3.2",
          "3.4",
          "3.6",
          "3.8"
         ],
         "y": [
          57.5,
          55,
          52.5,
          50,
          47.5,
          45,
          42.5,
          40,
          37.5,
          35,
          32.5,
          30,
          27.5,
          25,
          22.5,
          20,
          17.5,
          15,
          12.5,
          10
         ],
         "z": [
          [
           213.35789069873576,
           225.88118119752767,
           249.52000596787767,
           265.3947935185956,
           275.1316252492999,
           280.2160032748258,
           281.8215110306747,
           281.11914668268423,
           279.1609825126571,
           276.62585703649995,
           273.87066676840885,
           271.07026732426755,
           268.3085370503046,
           265.6245698609757,
           263.03488991490764
          ],
          [
           212.52789918621454,
           225.1354700744929,
           248.70003163473228,
           264.4645795008593,
           274.09828683195417,
           279.09525221183856,
           280.63738858043473,
           279.8995813015148,
           277.9275706366876,
           275.391407178231,
           272.6420401070032,
           269.85103133136175,
           267.1005933729875,
           264.4288725351781,
           261.85192004951705
          ],
          [
           211.65203314882848,
           224.34671503431608,
           247.8289989427853,
           263.4772864942221,
           273.00278896820276,
           277.9085855429354,
           279.3851994776195,
           278.6110476398136,
           276.6251914210732,
           274.0883436362688,
           271.3452720375161,
           268.564262175523,
           265.8257579473424,
           263.1669519816153,
           260.60340656180506
          ],
          [
           210.725254203063,
           223.50985422289676,
           246.90097191481493,
           262.4263524117933,
           271.83810482611057,
           276.6486537332654,
           278.057418391528,
           277.24603982462895,
           275.24625835145,
           272.70911545808906,
           269.9729633794262,
           267.2026209990624,
           264.4767502686869,
           261.8316169724322,
           259.28218006871793
          ],
          [
           209.74166747352618,
           222.61897085076146,
           245.90907984387422,
           261.30416395364256,
           270.5959581545609,
           275.30685931892333,
           276.6452471947143,
           275.7957333874072,
           273.7820309751258,
           271.24498424044407,
           268.51642810936505,
           265.7575245240209,
           263.04509209546205,
           260.41442946386076,
           257.8799621718159
          ],
          [
           208.69424847843686,
           221.66703578423264,
           244.84513286250015,
           260.1017003986332,
           269.26669333360394,
           273.87308448087794,
           275.13836284914,
           274.24972173772426,
           272.2221092631428,
           269.68571276242454,
           266.9654397906899,
           264.218860777615,
           261.52079713776163,
           258.9054938460585,
           256.38688476005626
          ],
          [
           207.57468242635102,
           220.64558506472437,
           243.69935265854372,
           258.8081219497145,
           267.8387533251582,
           272.33527227531255,
           273.52448501645875,
           272.5956625888621,
           270.5541903143453,
           268.01905534018636,
           265.3079293274325,
           262.57460656908955,
           259.8919148686664,
           257.2930507787579,
           254.79133228418758
          ],
          [
           206.37300793725447,
           219.54441643029335,
           242.4599319772359,
           257.41046068151195,
           266.29820588707736,
           270.6789160776852,
           271.7888330219368,
           270.81876458286087,
           268.76355371594923,
           266.23032344204904,
           263.5293744400008,
           260.8104190706176,
           258.14426109753356,
           255.56301435791332,
           253.07934888670806
          ],
          [
           205.07706119145575,
           218.3510426202441,
           241.11248965303577,
           255.89290381344165,
           264.62813623224497,
           268.8864452055459,
           269.91351135916005,
           268.90102389179384,
           266.8322619856138,
           264.30183445744206,
           261.61215338314616,
           258.90886691496087,
           256.26058269082324,
           253.69824998686056,
           251.23397442115703
          ],
          [
           203.67184911392852,
           217.0499706125749,
           239.63924308964468,
           254.2358844266463,
           262.8077477898131,
           266.93620402665294,
           267.8765213290844,
           266.82040817741324,
           264.7384057236749,
           262.21170988811417,
           259.53469483136297,
           256.84853749050126,
           254.21965683368077,
           251.67784273998612,
           249.23448411049114
          ],
          [
           202.13866717454906,
           215.6217256604873,
           238.01791881203494,
           252.41499003914726,
           260.8109451058528,
           264.80119962353575,
           265.65043706517616,
           264.5494716577344,
           262.45456386671725,
           259.9328971962875,
           257.2700573166927,
           254.60280087331955,
           251.9951403568778,
           249.47561673041403,
           247.05498491586184
          ],
          [
           200.45373627966504,
           214.04146019023474,
           236.22007500622934,
           250.39904996405932,
           258.6046461873543,
           262.44714712345626,
           263.2005377331746,
           262.0533456960389,
           259.9461822780684,
           257.4309769099868,
           254.78422697622912,
           252.1379505490812,
           249.55364128119123,
           247.0585620945299,
           244.6627700887647
          ],
          [
           198.58623688468924,
           212.2767211737825,
           234.20883015066872,
           248.14768614887888,
           256.1460380997204,
           259.8297841066785,
           260.4819512936305,
           259.2872311999202,
           257.16858246614095,
           254.66167572337707,
           252.0333696149456,
           249.4105438160855,
           246.8521675653715,
           244.38409486958133,
           242.0156759142009
          ],
          [
           196.49531633798924,
           210.28431269646413,
           231.93502336878433,
           245.6073676292131,
           253.3784021535499,
           256.89065996753055,
           257.4354773994289,
           256.1918660526752,
           254.06291753860307,
           251.5666382313116,
           248.95959172614678,
           246.36331886778086,
           243.8339922359483,
           241.39607871263703,
           239.05804526618516
          ],
          [
           194.1253098976576,
           208.00506504022337,
           229.33169406172047,
           242.70509719397435,
           250.22464882544685,
           253.55033918063813,
           253.98091074805248,
           252.6870996254817,
           250.54946979079594,
           248.0668219967509,
           245.48464964099898,
           242.91874850413473,
           240.4224397880529,
           238.01850467101528,
           235.71470971192798
          ],
          [
           191.39792564452233,
           205.35528249092837,
           226.30422284081908,
           239.33815180913305,
           246.576489713274,
           249.6976102239286,
           250.00601687512952,
           248.66085344603562,
           246.5168871560596,
           244.05184285725855,
           241.4992142397194,
           238.9686483335637,
           236.510295165347,
           234.14529155477862,
           231.88054995589385
          ],
          [
           188.19829443519862,
           202.2117141995119,
           222.71371433751557,
           235.35593531366996,
           242.27582706226568,
           245.17033799630596,
           245.34733323188743,
           243.95003440686494,
           241.80324295806793,
           239.36120572878826,
           236.8443340573006,
           234.35560053645173,
           231.94176532402298,
           229.62219834642875,
           227.40280327321238
          ],
          [
           184.34908010937824,
           198.38316425325772,
           218.34529201622337,
           230.52638270419305,
           237.07949898879912,
           239.71983397492548,
           239.7547032216678,
           238.30523342122214,
           236.16086863156343,
           233.74945851651043,
           231.27708013491701,
           228.83918586082373,
           226.47884557170272,
           224.21350358120065,
           222.04798099028858
          ],
          [
           179.5571533703601,
           193.5524209037725,
           212.84358560010716,
           224.466864616853,
           230.58812358866462,
           232.9386986057051,
           232.8188874720052,
           231.3187670992193,
           229.1852478937472,
           226.81605514583873,
           224.40076162877506,
           222.02676361816376,
           219.732821847923,
           217.5343203491481,
           215.43501418004365
          ],
          [
           173.290140929563,
           187.14147334481393,
           205.56333934727417,
           216.48541233123797,
           222.0822252328291,
           224.09524065392188,
           223.8060884208437,
           222.26049836333516,
           220.15236939033443,
           217.8438545401614,
           215.50574505388872,
           213.21592831510551,
           211.0084801088137,
           208.89634092718094,
           206.8820359672757
          ]
         ]
        }
       ],
       "layout": {
        "template": {
         "data": {
          "candlestick": [
           {
            "decreasing": {
             "line": {
              "color": "#000033"
             }
            },
            "increasing": {
             "line": {
              "color": "#000032"
             }
            },
            "type": "candlestick"
           }
          ],
          "contour": [
           {
            "colorscale": [
             [
              0,
              "#000011"
             ],
             [
              0.1111111111111111,
              "#000012"
             ],
             [
              0.2222222222222222,
              "#000013"
             ],
             [
              0.3333333333333333,
              "#000014"
             ],
             [
              0.4444444444444444,
              "#000015"
             ],
             [
              0.5555555555555556,
              "#000016"
             ],
             [
              0.6666666666666666,
              "#000017"
             ],
             [
              0.7777777777777778,
              "#000018"
             ],
             [
              0.8888888888888888,
              "#000019"
             ],
             [
              1,
              "#000020"
             ]
            ],
            "type": "contour"
           }
          ],
          "contourcarpet": [
           {
            "colorscale": [
             [
              0,
              "#000011"
             ],
             [
              0.1111111111111111,
              "#000012"
             ],
             [
              0.2222222222222222,
              "#000013"
             ],
             [
              0.3333333333333333,
              "#000014"
             ],
             [
              0.4444444444444444,
              "#000015"
             ],
             [
              0.5555555555555556,
              "#000016"
             ],
             [
              0.6666666666666666,
              "#000017"
             ],
             [
              0.7777777777777778,
              "#000018"
             ],
             [
              0.8888888888888888,
              "#000019"
             ],
             [
              1,
              "#000020"
             ]
            ],
            "type": "contourcarpet"
           }
          ],
          "heatmap": [
           {
            "colorscale": [
             [
              0,
              "#000011"
             ],
             [
              0.1111111111111111,
              "#000012"
             ],
             [
              0.2222222222222222,
              "#000013"
             ],
             [
              0.3333333333333333,
              "#000014"
             ],
             [
              0.4444444444444444,
              "#000015"
             ],
             [
              0.5555555555555556,
              "#000016"
             ],
             [
              0.6666666666666666,
              "#000017"
             ],
             [
              0.7777777777777778,
              "#000018"
             ],
             [
              0.8888888888888888,
              "#000019"
             ],
             [
              1,
              "#000020"
             ]
            ],
            "type": "heatmap"
           }
          ],
          "histogram2d": [
           {
            "colorscale": [
             [
              0,
              "#000011"
             ],
             [
              0.1111111111111111,
              "#000012"
             ],
             [
              0.2222222222222222,
              "#000013"
             ],
             [
              0.3333333333333333,
              "#000014"
             ],
             [
              0.4444444444444444,
              "#000015"
             ],
             [
              0.5555555555555556,
              "#000016"
             ],
             [
              0.6666666666666666,
              "#000017"
             ],
             [
              0.7777777777777778,
              "#000018"
             ],
             [
              0.8888888888888888,
              "#000019"
             ],
             [
              1,
              "#000020"
             ]
            ],
            "type": "histogram2d"
           }
          ],
          "icicle": [
           {
            "textfont": {
             "color": "white"
            },
            "type": "icicle"
           }
          ],
          "sankey": [
           {
            "textfont": {
             "color": "#000036"
            },
            "type": "sankey"
           }
          ],
          "scatter": [
           {
            "marker": {
             "line": {
              "width": 0
             }
            },
            "type": "scatter"
           }
          ],
          "table": [
           {
            "cells": {
             "fill": {
              "color": "#000038"
             },
             "font": {
              "color": "#000037"
             },
             "line": {
              "color": "#000039"
             }
            },
            "header": {
             "fill": {
              "color": "#000040"
             },
             "font": {
              "color": "#000036"
             },
             "line": {
              "color": "#000039"
             }
            },
            "type": "table"
           }
          ],
          "waterfall": [
           {
            "connector": {
             "line": {
              "color": "#000036",
              "width": 2
             }
            },
            "decreasing": {
             "marker": {
              "color": "#000033"
             }
            },
            "increasing": {
             "marker": {
              "color": "#000032"
             }
            },
            "totals": {
             "marker": {
              "color": "#000034"
             }
            },
            "type": "waterfall"
           }
          ]
         },
         "layout": {
          "coloraxis": {
           "colorscale": [
            [
             0,
             "#000011"
            ],
            [
             0.1111111111111111,
             "#000012"
            ],
            [
             0.2222222222222222,
             "#000013"
            ],
            [
             0.3333333333333333,
             "#000014"
            ],
            [
             0.4444444444444444,
             "#000015"
            ],
            [
             0.5555555555555556,
             "#000016"
            ],
            [
             0.6666666666666666,
             "#000017"
            ],
            [
             0.7777777777777778,
             "#000018"
            ],
            [
             0.8888888888888888,
             "#000019"
            ],
            [
             1,
             "#000020"
            ]
           ]
          },
          "colorscale": {
           "diverging": [
            [
             0,
             "#000021"
            ],
            [
             0.1,
             "#000022"
            ],
            [
             0.2,
             "#000023"
            ],
            [
             0.3,
             "#000024"
            ],
            [
             0.4,
             "#000025"
            ],
            [
             0.5,
             "#000026"
            ],
            [
             0.6,
             "#000027"
            ],
            [
             0.7,
             "#000028"
            ],
            [
             0.8,
             "#000029"
            ],
            [
             0.9,
             "#000030"
            ],
            [
             1,
             "#000031"
            ]
           ],
           "sequential": [
            [
             0,
             "#000011"
            ],
            [
             0.1111111111111111,
             "#000012"
            ],
            [
             0.2222222222222222,
             "#000013"
            ],
            [
             0.3333333333333333,
             "#000014"
            ],
            [
             0.4444444444444444,
             "#000015"
            ],
            [
             0.5555555555555556,
             "#000016"
            ],
            [
             0.6666666666666666,
             "#000017"
            ],
            [
             0.7777777777777778,
             "#000018"
            ],
            [
             0.8888888888888888,
             "#000019"
            ],
            [
             1,
             "#000020"
            ]
           ],
           "sequentialminus": [
            [
             0,
             "#000011"
            ],
            [
             0.1111111111111111,
             "#000012"
            ],
            [
             0.2222222222222222,
             "#000013"
            ],
            [
             0.3333333333333333,
             "#000014"
            ],
            [
             0.4444444444444444,
             "#000015"
            ],
            [
             0.5555555555555556,
             "#000016"
            ],
            [
             0.6666666666666666,
             "#000017"
            ],
            [
             0.7777777777777778,
             "#000018"
            ],
            [
             0.8888888888888888,
             "#000019"
            ],
            [
             1,
             "#000020"
            ]
           ]
          },
          "colorway": [
           "#000001",
           "#000002",
           "#000003",
           "#000004",
           "#000005",
           "#000006",
           "#000007",
           "#000008",
           "#000009",
           "#000010"
          ]
         }
        }
       }
      }
     },
     "metadata": {},
     "output_type": "display_data"
    }
   ],
   "source": [
    "surface = go.Surface(z=filtered.values, x = filtered.columns.values , y = filtered.index.values, colorscale = \"viridis\")\n",
    "fig = go.Figure(data = [surface])\n",
    "fig.show()"
   ]
  },
  {
   "cell_type": "code",
   "execution_count": 20,
   "metadata": {},
   "outputs": [
    {
     "ename": "TypeError",
     "evalue": "add_trace() got an unexpected keyword argument 'colorscale'",
     "output_type": "error",
     "traceback": [
      "\u001b[1;31m---------------------------------------------------------------------------\u001b[0m",
      "\u001b[1;31mTypeError\u001b[0m                                 Traceback (most recent call last)",
      "\u001b[1;32mc:\\Users\\aliga\\Desktop\\engineering\\APL\\engine_analysis\\testing.ipynb Cell 20\u001b[0m line \u001b[0;36m3\n\u001b[0;32m      <a href='vscode-notebook-cell:/c%3A/Users/aliga/Desktop/engineering/APL/engine_analysis/testing.ipynb#X25sZmlsZQ%3D%3D?line=0'>1</a>\u001b[0m fig \u001b[39m=\u001b[39m go\u001b[39m.\u001b[39mFigure()\n\u001b[0;32m      <a href='vscode-notebook-cell:/c%3A/Users/aliga/Desktop/engineering/APL/engine_analysis/testing.ipynb#X25sZmlsZQ%3D%3D?line=1'>2</a>\u001b[0m surface \u001b[39m=\u001b[39m go\u001b[39m.\u001b[39mSurface(z\u001b[39m=\u001b[39mfiltered\u001b[39m.\u001b[39mvalues, x \u001b[39m=\u001b[39m filtered\u001b[39m.\u001b[39mcolumns\u001b[39m.\u001b[39mvalues , y \u001b[39m=\u001b[39m filtered\u001b[39m.\u001b[39mindex\u001b[39m.\u001b[39mvalues)\n\u001b[1;32m----> <a href='vscode-notebook-cell:/c%3A/Users/aliga/Desktop/engineering/APL/engine_analysis/testing.ipynb#X25sZmlsZQ%3D%3D?line=2'>3</a>\u001b[0m fig\u001b[39m.\u001b[39;49madd_trace(surface, colorscale \u001b[39m=\u001b[39;49m \u001b[39m'\u001b[39;49m\u001b[39mViridis\u001b[39;49m\u001b[39m'\u001b[39;49m)\n\u001b[0;32m      <a href='vscode-notebook-cell:/c%3A/Users/aliga/Desktop/engineering/APL/engine_analysis/testing.ipynb#X25sZmlsZQ%3D%3D?line=3'>4</a>\u001b[0m fig\n",
      "\u001b[1;31mTypeError\u001b[0m: add_trace() got an unexpected keyword argument 'colorscale'"
     ]
    }
   ],
   "source": [
    "fig = go.Figure()\n",
    "surface = go.Surface(z=filtered.values, x = filtered.columns.values , y = filtered.index.values)\n",
    "fig.add_trace(surface, colorscale = 'Viridis')\n",
    "fig"
   ]
  },
  {
   "cell_type": "code",
   "execution_count": null,
   "metadata": {},
   "outputs": [
    {
     "data": {
      "application/vnd.plotly.v1+json": {
       "config": {
        "plotlyServerURL": "https://plot.ly"
       },
       "data": [
        {
         "type": "surface",
         "x": [
          1,
          1.2,
          1.4,
          1.5999999999999999,
          1.7999999999999998,
          1.9999999999999996,
          2.1999999999999997,
          2.3999999999999995,
          2.5999999999999996,
          2.8,
          2.9999999999999996,
          3.1999999999999993,
          3.3999999999999995,
          3.5999999999999996,
          3.7999999999999994
         ],
         "y": [
          57.5,
          55,
          52.5,
          50,
          47.5,
          45,
          42.5,
          40,
          37.5,
          35,
          32.5,
          30,
          27.5,
          25,
          22.5,
          20,
          17.5,
          15,
          12.5,
          10
         ],
         "z": [
          [
           1586.250625903548,
           1800.9710338500433,
           2310.7167151661524,
           2749.665853945522,
           3097.7377362517864,
           3352.20042512917,
           3518.18495151658,
           3613.306630322474,
           3661.798264007606,
           3682.6020356885924,
           3687.112283528434,
           3681.7217080566224,
           3670.061022422851,
           3654.270875791224,
           3635.6665003415324
          ],
          [
           1583.3229515974106,
           1800.0870305606263,
           2310.5970582583063,
           2748.998630831492,
           3095.9234108234104,
           3348.8779419092557,
           3513.391818180173,
           3607.443994819379,
           3655.3136216863427,
           3675.804964754665,
           3680.1874984288897,
           3674.7775004414616,
           3663.162799946068,
           3647.4600925562613,
           3628.970270169964
          ],
          [
           1580.3024201797782,
           1799.21906013965,
           2310.469613423886,
           2748.287848797085,
           3094.0002295870477,
           3345.372562272821,
           3508.354880069599,
           3601.3004525233177,
           3648.5287421061716,
           3668.6988641039093,
           3672.9502751178293,
           3667.5208669136764,
           3655.9548649024,
           3640.343325937949,
           3621.9728621023773
          ],
          [
           1577.1820534280107,
           1798.3688629770393,
           2310.3331840385467,
           2747.5281855381454,
           3091.9561882873572,
           3341.665180976011,
           3503.050516355626,
           3594.848880219893,
           3641.4150600522557,
           3661.254070035759,
           3665.371112902226,
           3659.922644913435,
           3648.407565867148,
           3632.89129960063,
           3614.64487174518
          ],
          [
           1573.9545892567262,
           1797.5384641109656,
           2310.187118891293,
           2746.713972776429,
           3089.7771050748215,
           3337.7341054862513,
           3497.44999216618,
           3588.0576949579945,
           3633.938858645402,
           3653.4362849752615,
           3657.415441062621,
           3651.948560826554,
           3640.4869681329337,
           3625.0703871434616,
           3606.9535804772318
          ],
          [
           1570.611293571558,
           1796.7295688631589,
           2310.029562508888,
           2745.8381590776935,
           3087.447179017373,
           3333.553374805423,
           3491.520803610257,
           3580.8900119420623,
           3626.061824137016,
           3645.206254546769,
           3649.043173865403,
           3643.5582961180885,
           3632.1539343544964,
           3616.8414774029316,
           3598.860486827759
          ],
          [
           1567.1425724390183,
           1795.9443070304012,
           2309.8593366328514,
           2744.891996872724,
           3084.9464888410293,
           3329.0927784985497,
           3485.2248699642114,
           3573.3031914547655,
           3617.738620112088,
           3636.51772444402,
           3640.2083486342763,
           3634.705806402707,
           3623.361710271564,
           3608.1593864189786,
           3590.3202679651413
          ],
          [
           1563.537877007258,
           1795.1848465209418,
           2309.6740965828862,
           2743.865770125743,
           3082.2523634718827,
           3324.3161116745264,
           3478.5166355669285,
           3565.246639410782,
           3608.9157201305675,
           3627.315851382601,
           3630.855731482278,
           3625.3360276716294,
           3614.0563996273836,
           3598.969645162214,
           3581.2804246812684
          ],
          [
           1559.7845823766409,
           1794.4533769498873,
           2309.471774548824,
           2742.7468741413286,
           3079.33678146521,
           3319.180535121476,
           3471.3422223755447,
           3556.6597251212575,
           3599.5297942134916,
           3617.5358541738624,
           3620.919796589592,
           3615.3839605838425,
           3604.173088694227,
           3589.2088555922865,
           3571.677609305363
          ],
          [
           1555.8683557346724,
           1793.7521114885742,
           2309.2487915787724,
           2741.5205449737723,
           3076.1655278629282,
           3313.633611824486,
           3463.6357279086633,
           3547.469572757435,
           3589.504607543351,
           3607.0997157543015,
           3610.3221344424214,
           3604.77115221529,
           3593.634123176434,
           3578.79997705129,
           3561.4359479542254
          ],
          [
           1551.7726661351235,
           1793.0831987121721,
           2309.001956278978,
           2740.1678048472822,
           3072.696896022185,
           3307.611151782499,
           3455.3173712748835,
           3537.5877799049126,
           3578.746146328146,
           3595.9120447497185,
           3598.9666378131888,
           3593.401809906295,
           3582.344091189098,
           3567.648881232215,
           3550.4626535186962
          ],
          [
           1547.4780848081118,
           1792.449132678092,
           2308.725987822242,
           2738.6642815108667,
           3068.877630402677,
           3301.032613575309,
           3446.2878955454003,
           3526.903625361887,
           3567.1395648415423,
           3583.8547612551342,
           3586.734918497031,
           3581.1576616415773,
           3570.1860070674666,
           3555.6394433716705,
           3538.643580392889
          ],
          [
           1542.9618057346458,
           1791.8519838572336,
           2308.414734415477,
           2736.9789360844666,
           3064.640244123043,
           3293.7962185942615,
           3436.421593742685,
           3515.278873528465,
           3554.5392327481727,
           3570.7800995555294,
           3573.477844458193,
           3567.8898027330656,
           3557.0123508957613,
           3542.6262026449303,
           3525.8344076409458
          ],
          [
           1538.19650007985,
           1791.293838601815,
           2308.059352615059,
           2735.071390636567,
           3059.8962500581742,
           3285.770773418375,
           3425.5568871977707,
           3502.5352734481526,
           3540.759018950036,
           3556.497683640784,
           3559.0045916858003,
           3553.4083497246406,
           3542.633904277793,
           3528.4220058614205,
           3511.8510934921205
          ],
          [
           1533.1493382953565,
           1790.776769733797,
           2307.6486020765856,
           2732.8858159090237,
           3054.528240989928,
           3276.781390208983,
           3413.4814027861153,
           3488.438923761531,
           3525.5545606930027,
           3540.758656613773,
           3543.0646699595613,
           3537.4632497062594,
           3526.803350371587,
           3512.7818010944725,
           3496.4518966097944
          ],
          [
           1527.779587142909,
           1790.3023394567501,
           2307.1655883700355,
           2730.344869019817,
           3048.3733870411265,
           3266.5909847666594,
           3399.9068848756497,
           3472.67430410764,
           3508.596238006268,
           3523.2276372738706,
           3525.320809646331,
           3519.7185546082414,
           3509.18691287158,
           3495.3758496213823,
           3479.3112548797585
          ],
          [
           1522.0368395300995,
           1789.871893987856,
           2306.5864381432884,
           2727.3364148895835,
           3041.201097259577,
           3254.864624432429,
           3384.4291289971643,
           3454.7995441863027,
           3489.424012777736,
           3503.436247916723,
           3505.3030520562083,
           3499.7049772485816,
           3489.3188482557916,
           3475.7437068419763,
           3459.974598063144
          ],
          [
           1515.8572960939312,
           1789.4860013291864,
           2305.872863920161,
           2723.6905878477737,
           3032.6664578161017,
           3241.1082523327445,
           3366.457375800806,
           3434.1706926918173,
           3467.36749291174,
           3480.7026910072204,
           3482.3264953801913,
           3476.740350944578,
           3466.5225957206003,
           3453.2155196301587,
           3437.7807991604063
          ],
          [
           1509.1572358706132,
           1789.1439545588016,
           2304.962964881126,
           2719.1326458270155,
           3022.2245104678145,
           3224.551871058915,
           3345.0757437505704,
           3409.794072776002,
           3441.394262527117,
           3453.9783966568734,
           3455.3381846494635,
           3449.7752947968247,
           3439.75659340186,
           3426.761121492027,
           3411.7130632162916
          ],
          [
           1501.824943591101,
           1788.842915060136,
           2303.744083161539,
           2713.1811514151063,
           3008.9424753301696,
           3203.897006181676,
           3318.7534300460948,
           3380.0138439855273,
           3409.7877683954944,
           3421.5208065429756,
           3422.589942471915,
           3417.067012051205,
           3407.2915879692764,
           3394.6695983895625,
           3380.081699160015
          ]
         ]
        }
       ],
       "layout": {
        "template": {
         "data": {
          "candlestick": [
           {
            "decreasing": {
             "line": {
              "color": "#000033"
             }
            },
            "increasing": {
             "line": {
              "color": "#000032"
             }
            },
            "type": "candlestick"
           }
          ],
          "contour": [
           {
            "colorscale": [
             [
              0,
              "#000011"
             ],
             [
              0.1111111111111111,
              "#000012"
             ],
             [
              0.2222222222222222,
              "#000013"
             ],
             [
              0.3333333333333333,
              "#000014"
             ],
             [
              0.4444444444444444,
              "#000015"
             ],
             [
              0.5555555555555556,
              "#000016"
             ],
             [
              0.6666666666666666,
              "#000017"
             ],
             [
              0.7777777777777778,
              "#000018"
             ],
             [
              0.8888888888888888,
              "#000019"
             ],
             [
              1,
              "#000020"
             ]
            ],
            "type": "contour"
           }
          ],
          "contourcarpet": [
           {
            "colorscale": [
             [
              0,
              "#000011"
             ],
             [
              0.1111111111111111,
              "#000012"
             ],
             [
              0.2222222222222222,
              "#000013"
             ],
             [
              0.3333333333333333,
              "#000014"
             ],
             [
              0.4444444444444444,
              "#000015"
             ],
             [
              0.5555555555555556,
              "#000016"
             ],
             [
              0.6666666666666666,
              "#000017"
             ],
             [
              0.7777777777777778,
              "#000018"
             ],
             [
              0.8888888888888888,
              "#000019"
             ],
             [
              1,
              "#000020"
             ]
            ],
            "type": "contourcarpet"
           }
          ],
          "heatmap": [
           {
            "colorscale": [
             [
              0,
              "#000011"
             ],
             [
              0.1111111111111111,
              "#000012"
             ],
             [
              0.2222222222222222,
              "#000013"
             ],
             [
              0.3333333333333333,
              "#000014"
             ],
             [
              0.4444444444444444,
              "#000015"
             ],
             [
              0.5555555555555556,
              "#000016"
             ],
             [
              0.6666666666666666,
              "#000017"
             ],
             [
              0.7777777777777778,
              "#000018"
             ],
             [
              0.8888888888888888,
              "#000019"
             ],
             [
              1,
              "#000020"
             ]
            ],
            "type": "heatmap"
           }
          ],
          "histogram2d": [
           {
            "colorscale": [
             [
              0,
              "#000011"
             ],
             [
              0.1111111111111111,
              "#000012"
             ],
             [
              0.2222222222222222,
              "#000013"
             ],
             [
              0.3333333333333333,
              "#000014"
             ],
             [
              0.4444444444444444,
              "#000015"
             ],
             [
              0.5555555555555556,
              "#000016"
             ],
             [
              0.6666666666666666,
              "#000017"
             ],
             [
              0.7777777777777778,
              "#000018"
             ],
             [
              0.8888888888888888,
              "#000019"
             ],
             [
              1,
              "#000020"
             ]
            ],
            "type": "histogram2d"
           }
          ],
          "icicle": [
           {
            "textfont": {
             "color": "white"
            },
            "type": "icicle"
           }
          ],
          "sankey": [
           {
            "textfont": {
             "color": "#000036"
            },
            "type": "sankey"
           }
          ],
          "scatter": [
           {
            "marker": {
             "line": {
              "width": 0
             }
            },
            "type": "scatter"
           }
          ],
          "table": [
           {
            "cells": {
             "fill": {
              "color": "#000038"
             },
             "font": {
              "color": "#000037"
             },
             "line": {
              "color": "#000039"
             }
            },
            "header": {
             "fill": {
              "color": "#000040"
             },
             "font": {
              "color": "#000036"
             },
             "line": {
              "color": "#000039"
             }
            },
            "type": "table"
           }
          ],
          "waterfall": [
           {
            "connector": {
             "line": {
              "color": "#000036",
              "width": 2
             }
            },
            "decreasing": {
             "marker": {
              "color": "#000033"
             }
            },
            "increasing": {
             "marker": {
              "color": "#000032"
             }
            },
            "totals": {
             "marker": {
              "color": "#000034"
             }
            },
            "type": "waterfall"
           }
          ]
         },
         "layout": {
          "coloraxis": {
           "colorscale": [
            [
             0,
             "#000011"
            ],
            [
             0.1111111111111111,
             "#000012"
            ],
            [
             0.2222222222222222,
             "#000013"
            ],
            [
             0.3333333333333333,
             "#000014"
            ],
            [
             0.4444444444444444,
             "#000015"
            ],
            [
             0.5555555555555556,
             "#000016"
            ],
            [
             0.6666666666666666,
             "#000017"
            ],
            [
             0.7777777777777778,
             "#000018"
            ],
            [
             0.8888888888888888,
             "#000019"
            ],
            [
             1,
             "#000020"
            ]
           ]
          },
          "colorscale": {
           "diverging": [
            [
             0,
             "#000021"
            ],
            [
             0.1,
             "#000022"
            ],
            [
             0.2,
             "#000023"
            ],
            [
             0.3,
             "#000024"
            ],
            [
             0.4,
             "#000025"
            ],
            [
             0.5,
             "#000026"
            ],
            [
             0.6,
             "#000027"
            ],
            [
             0.7,
             "#000028"
            ],
            [
             0.8,
             "#000029"
            ],
            [
             0.9,
             "#000030"
            ],
            [
             1,
             "#000031"
            ]
           ],
           "sequential": [
            [
             0,
             "#000011"
            ],
            [
             0.1111111111111111,
             "#000012"
            ],
            [
             0.2222222222222222,
             "#000013"
            ],
            [
             0.3333333333333333,
             "#000014"
            ],
            [
             0.4444444444444444,
             "#000015"
            ],
            [
             0.5555555555555556,
             "#000016"
            ],
            [
             0.6666666666666666,
             "#000017"
            ],
            [
             0.7777777777777778,
             "#000018"
            ],
            [
             0.8888888888888888,
             "#000019"
            ],
            [
             1,
             "#000020"
            ]
           ],
           "sequentialminus": [
            [
             0,
             "#000011"
            ],
            [
             0.1111111111111111,
             "#000012"
            ],
            [
             0.2222222222222222,
             "#000013"
            ],
            [
             0.3333333333333333,
             "#000014"
            ],
            [
             0.4444444444444444,
             "#000015"
            ],
            [
             0.5555555555555556,
             "#000016"
            ],
            [
             0.6666666666666666,
             "#000017"
            ],
            [
             0.7777777777777778,
             "#000018"
            ],
            [
             0.8888888888888888,
             "#000019"
            ],
            [
             1,
             "#000020"
            ]
           ]
          },
          "colorway": [
           "#000001",
           "#000002",
           "#000003",
           "#000004",
           "#000005",
           "#000006",
           "#000007",
           "#000008",
           "#000009",
           "#000010"
          ]
         }
        }
       }
      }
     },
     "metadata": {},
     "output_type": "display_data"
    }
   ],
   "source": [
    "filtered_temp = heatmap_data_filter(show, 'chamber', 't (K)')\n",
    "surface = go.Surface(z=filtered_temp.values, x = filtered_temp.columns.values , y = filtered_temp.index.values)\n",
    "fig = go.Figure(data = [surface])\n",
    "fig.show()\n"
   ]
  },
  {
   "cell_type": "code",
   "execution_count": null,
   "metadata": {},
   "outputs": [
    {
     "name": "stderr",
     "output_type": "stream",
     "text": [
      "2023-09-29 10:09:57.042 `st.experimental_memo` is deprecated. Please use the new command `st.cache_data` instead, which has the same behavior. More information [in our docs](https://docs.streamlit.io/library/advanced-features/caching).\n",
      "2023-09-29 10:09:57.043 No runtime found, using MemoryCacheStorageManager\n"
     ]
    }
   ],
   "source": [
    "@st.experimental_memo\n",
    "def plot_chart(figure):\n",
    "    tab = st.tabs([\"Streamlit theme (default)\", \"Plotly native theme\"])\n",
    "    with tab:\n",
    "        st.plotly_chart(figure, theme='streamlit')\n"
   ]
  },
  {
   "cell_type": "code",
   "execution_count": null,
   "metadata": {},
   "outputs": [],
   "source": []
  },
  {
   "cell_type": "markdown",
   "metadata": {},
   "source": [
    "rocket definition: \n",
    "- title\n",
    "- nozzle type\n",
    "- mdot\n",
    "- lstar\n",
    "- chamber diameter\n",
    "- wall temp\n",
    "- \n"
   ]
  }
 ],
 "metadata": {
  "kernelspec": {
   "display_name": ".venv",
   "language": "python",
   "name": "python3"
  },
  "language_info": {
   "codemirror_mode": {
    "name": "ipython",
    "version": 3
   },
   "file_extension": ".py",
   "mimetype": "text/x-python",
   "name": "python",
   "nbconvert_exporter": "python",
   "pygments_lexer": "ipython3",
   "version": "3.9.0"
  },
  "orig_nbformat": 4
 },
 "nbformat": 4,
 "nbformat_minor": 2
}
